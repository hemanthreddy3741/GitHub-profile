{
  "nbformat": 4,
  "nbformat_minor": 0,
  "metadata": {
    "colab": {
      "name": "customSGDregressor_linear_regression for boston real estate.ipynb",
      "provenance": [],
      "collapsed_sections": []
    },
    "kernelspec": {
      "name": "python3",
      "display_name": "Python 3"
    }
  },
  "cells": [
    {
      "cell_type": "code",
      "metadata": {
        "id": "hZfJshwTd3tR"
      },
      "source": [
        "%matplotlib inline\n",
        "import warnings\n",
        "warnings.filterwarnings(\"ignore\")\n",
        "import pandas as pd\n",
        "import numpy as np\n",
        "import string\n",
        "import matplotlib.pyplot as plt\n",
        "import seaborn as sns\n",
        "from tqdm import tqdm\n",
        "from sklearn.model_selection import train_test_split\n",
        "%matplotlib inline\n"
      ],
      "execution_count": null,
      "outputs": []
    },
    {
      "cell_type": "code",
      "metadata": {
        "id": "gVQ9VwnBhNMI",
        "outputId": "9e58e3df-0f21-4569-9a81-3826cfb1b346",
        "colab": {
          "base_uri": "https://localhost:8080/",
          "height": 35
        }
      },
      "source": [
        "from sklearn.datasets import load_boston\n",
        "boston = load_boston()\n",
        "print( \"Type of boston dataset:\", type(boston))"
      ],
      "execution_count": null,
      "outputs": [
        {
          "output_type": "stream",
          "text": [
            "Type of boston dataset: <class 'sklearn.utils.Bunch'>\n"
          ],
          "name": "stdout"
        }
      ]
    },
    {
      "cell_type": "markdown",
      "metadata": {
        "id": "neYDYgg1hTPG"
      },
      "source": [
        "##1. <class 'sklearn.utils.Bunch'> means the data here is stored in the form of extended dictionary and the keys here are the attributes"
      ]
    },
    {
      "cell_type": "code",
      "metadata": {
        "id": "FweXUuwOhiuG",
        "outputId": "19ea3be9-b964-4b41-9400-c356743f7908",
        "colab": {
          "base_uri": "https://localhost:8080/",
          "height": 965
        }
      },
      "source": [
        "#we try to get the description of the boston dataset \n",
        "print(boston['DESCR'])"
      ],
      "execution_count": null,
      "outputs": [
        {
          "output_type": "stream",
          "text": [
            ".. _boston_dataset:\n",
            "\n",
            "Boston house prices dataset\n",
            "---------------------------\n",
            "\n",
            "**Data Set Characteristics:**  \n",
            "\n",
            "    :Number of Instances: 506 \n",
            "\n",
            "    :Number of Attributes: 13 numeric/categorical predictive. Median Value (attribute 14) is usually the target.\n",
            "\n",
            "    :Attribute Information (in order):\n",
            "        - CRIM     per capita crime rate by town\n",
            "        - ZN       proportion of residential land zoned for lots over 25,000 sq.ft.\n",
            "        - INDUS    proportion of non-retail business acres per town\n",
            "        - CHAS     Charles River dummy variable (= 1 if tract bounds river; 0 otherwise)\n",
            "        - NOX      nitric oxides concentration (parts per 10 million)\n",
            "        - RM       average number of rooms per dwelling\n",
            "        - AGE      proportion of owner-occupied units built prior to 1940\n",
            "        - DIS      weighted distances to five Boston employment centres\n",
            "        - RAD      index of accessibility to radial highways\n",
            "        - TAX      full-value property-tax rate per $10,000\n",
            "        - PTRATIO  pupil-teacher ratio by town\n",
            "        - B        1000(Bk - 0.63)^2 where Bk is the proportion of blacks by town\n",
            "        - LSTAT    % lower status of the population\n",
            "        - MEDV     Median value of owner-occupied homes in $1000's\n",
            "\n",
            "    :Missing Attribute Values: None\n",
            "\n",
            "    :Creator: Harrison, D. and Rubinfeld, D.L.\n",
            "\n",
            "This is a copy of UCI ML housing dataset.\n",
            "https://archive.ics.uci.edu/ml/machine-learning-databases/housing/\n",
            "\n",
            "\n",
            "This dataset was taken from the StatLib library which is maintained at Carnegie Mellon University.\n",
            "\n",
            "The Boston house-price data of Harrison, D. and Rubinfeld, D.L. 'Hedonic\n",
            "prices and the demand for clean air', J. Environ. Economics & Management,\n",
            "vol.5, 81-102, 1978.   Used in Belsley, Kuh & Welsch, 'Regression diagnostics\n",
            "...', Wiley, 1980.   N.B. Various transformations are used in the table on\n",
            "pages 244-261 of the latter.\n",
            "\n",
            "The Boston house-price data has been used in many machine learning papers that address regression\n",
            "problems.   \n",
            "     \n",
            ".. topic:: References\n",
            "\n",
            "   - Belsley, Kuh & Welsch, 'Regression diagnostics: Identifying Influential Data and Sources of Collinearity', Wiley, 1980. 244-261.\n",
            "   - Quinlan,R. (1993). Combining Instance-Based and Model-Based Learning. In Proceedings on the Tenth International Conference of Machine Learning, 236-243, University of Massachusetts, Amherst. Morgan Kaufmann.\n",
            "\n"
          ],
          "name": "stdout"
        }
      ]
    },
    {
      "cell_type": "code",
      "metadata": {
        "id": "uPWnD7ejivkq",
        "outputId": "f6ad53fd-23ad-40f0-b76f-8da29697738d",
        "colab": {
          "base_uri": "https://localhost:8080/",
          "height": 198
        }
      },
      "source": [
        "# Let's change the data to a Pandas Dataframe\n",
        "boston_df = pd.DataFrame(boston['data'] )\n",
        "boston_df.head()\n"
      ],
      "execution_count": null,
      "outputs": [
        {
          "output_type": "execute_result",
          "data": {
            "text/html": [
              "<div>\n",
              "<style scoped>\n",
              "    .dataframe tbody tr th:only-of-type {\n",
              "        vertical-align: middle;\n",
              "    }\n",
              "\n",
              "    .dataframe tbody tr th {\n",
              "        vertical-align: top;\n",
              "    }\n",
              "\n",
              "    .dataframe thead th {\n",
              "        text-align: right;\n",
              "    }\n",
              "</style>\n",
              "<table border=\"1\" class=\"dataframe\">\n",
              "  <thead>\n",
              "    <tr style=\"text-align: right;\">\n",
              "      <th></th>\n",
              "      <th>0</th>\n",
              "      <th>1</th>\n",
              "      <th>2</th>\n",
              "      <th>3</th>\n",
              "      <th>4</th>\n",
              "      <th>5</th>\n",
              "      <th>6</th>\n",
              "      <th>7</th>\n",
              "      <th>8</th>\n",
              "      <th>9</th>\n",
              "      <th>10</th>\n",
              "      <th>11</th>\n",
              "      <th>12</th>\n",
              "    </tr>\n",
              "  </thead>\n",
              "  <tbody>\n",
              "    <tr>\n",
              "      <th>0</th>\n",
              "      <td>0.00632</td>\n",
              "      <td>18.0</td>\n",
              "      <td>2.31</td>\n",
              "      <td>0.0</td>\n",
              "      <td>0.538</td>\n",
              "      <td>6.575</td>\n",
              "      <td>65.2</td>\n",
              "      <td>4.0900</td>\n",
              "      <td>1.0</td>\n",
              "      <td>296.0</td>\n",
              "      <td>15.3</td>\n",
              "      <td>396.90</td>\n",
              "      <td>4.98</td>\n",
              "    </tr>\n",
              "    <tr>\n",
              "      <th>1</th>\n",
              "      <td>0.02731</td>\n",
              "      <td>0.0</td>\n",
              "      <td>7.07</td>\n",
              "      <td>0.0</td>\n",
              "      <td>0.469</td>\n",
              "      <td>6.421</td>\n",
              "      <td>78.9</td>\n",
              "      <td>4.9671</td>\n",
              "      <td>2.0</td>\n",
              "      <td>242.0</td>\n",
              "      <td>17.8</td>\n",
              "      <td>396.90</td>\n",
              "      <td>9.14</td>\n",
              "    </tr>\n",
              "    <tr>\n",
              "      <th>2</th>\n",
              "      <td>0.02729</td>\n",
              "      <td>0.0</td>\n",
              "      <td>7.07</td>\n",
              "      <td>0.0</td>\n",
              "      <td>0.469</td>\n",
              "      <td>7.185</td>\n",
              "      <td>61.1</td>\n",
              "      <td>4.9671</td>\n",
              "      <td>2.0</td>\n",
              "      <td>242.0</td>\n",
              "      <td>17.8</td>\n",
              "      <td>392.83</td>\n",
              "      <td>4.03</td>\n",
              "    </tr>\n",
              "    <tr>\n",
              "      <th>3</th>\n",
              "      <td>0.03237</td>\n",
              "      <td>0.0</td>\n",
              "      <td>2.18</td>\n",
              "      <td>0.0</td>\n",
              "      <td>0.458</td>\n",
              "      <td>6.998</td>\n",
              "      <td>45.8</td>\n",
              "      <td>6.0622</td>\n",
              "      <td>3.0</td>\n",
              "      <td>222.0</td>\n",
              "      <td>18.7</td>\n",
              "      <td>394.63</td>\n",
              "      <td>2.94</td>\n",
              "    </tr>\n",
              "    <tr>\n",
              "      <th>4</th>\n",
              "      <td>0.06905</td>\n",
              "      <td>0.0</td>\n",
              "      <td>2.18</td>\n",
              "      <td>0.0</td>\n",
              "      <td>0.458</td>\n",
              "      <td>7.147</td>\n",
              "      <td>54.2</td>\n",
              "      <td>6.0622</td>\n",
              "      <td>3.0</td>\n",
              "      <td>222.0</td>\n",
              "      <td>18.7</td>\n",
              "      <td>396.90</td>\n",
              "      <td>5.33</td>\n",
              "    </tr>\n",
              "  </tbody>\n",
              "</table>\n",
              "</div>"
            ],
            "text/plain": [
              "        0     1     2    3      4   ...   8      9     10      11    12\n",
              "0  0.00632  18.0  2.31  0.0  0.538  ...  1.0  296.0  15.3  396.90  4.98\n",
              "1  0.02731   0.0  7.07  0.0  0.469  ...  2.0  242.0  17.8  396.90  9.14\n",
              "2  0.02729   0.0  7.07  0.0  0.469  ...  2.0  242.0  17.8  392.83  4.03\n",
              "3  0.03237   0.0  2.18  0.0  0.458  ...  3.0  222.0  18.7  394.63  2.94\n",
              "4  0.06905   0.0  2.18  0.0  0.458  ...  3.0  222.0  18.7  396.90  5.33\n",
              "\n",
              "[5 rows x 13 columns]"
            ]
          },
          "metadata": {
            "tags": []
          },
          "execution_count": 5
        }
      ]
    },
    {
      "cell_type": "code",
      "metadata": {
        "id": "8JhSmsGTlv6j",
        "outputId": "aea0903e-f3e6-4de3-ff56-51414fa974a8",
        "colab": {
          "base_uri": "https://localhost:8080/",
          "height": 35
        }
      },
      "source": [
        "boston_df.shape"
      ],
      "execution_count": null,
      "outputs": [
        {
          "output_type": "execute_result",
          "data": {
            "text/plain": [
              "(506, 13)"
            ]
          },
          "metadata": {
            "tags": []
          },
          "execution_count": 6
        }
      ]
    },
    {
      "cell_type": "code",
      "metadata": {
        "id": "r4Hgaf4bl7zI",
        "outputId": "aa592c42-a861-4556-dcca-48b9cbe5c06f",
        "colab": {
          "base_uri": "https://localhost:8080/",
          "height": 198
        }
      },
      "source": [
        "#Now add the column names.\n",
        "boston_df.columns = boston['feature_names']\n",
        "boston_df.head()"
      ],
      "execution_count": null,
      "outputs": [
        {
          "output_type": "execute_result",
          "data": {
            "text/html": [
              "<div>\n",
              "<style scoped>\n",
              "    .dataframe tbody tr th:only-of-type {\n",
              "        vertical-align: middle;\n",
              "    }\n",
              "\n",
              "    .dataframe tbody tr th {\n",
              "        vertical-align: top;\n",
              "    }\n",
              "\n",
              "    .dataframe thead th {\n",
              "        text-align: right;\n",
              "    }\n",
              "</style>\n",
              "<table border=\"1\" class=\"dataframe\">\n",
              "  <thead>\n",
              "    <tr style=\"text-align: right;\">\n",
              "      <th></th>\n",
              "      <th>CRIM</th>\n",
              "      <th>ZN</th>\n",
              "      <th>INDUS</th>\n",
              "      <th>CHAS</th>\n",
              "      <th>NOX</th>\n",
              "      <th>RM</th>\n",
              "      <th>AGE</th>\n",
              "      <th>DIS</th>\n",
              "      <th>RAD</th>\n",
              "      <th>TAX</th>\n",
              "      <th>PTRATIO</th>\n",
              "      <th>B</th>\n",
              "      <th>LSTAT</th>\n",
              "    </tr>\n",
              "  </thead>\n",
              "  <tbody>\n",
              "    <tr>\n",
              "      <th>0</th>\n",
              "      <td>0.00632</td>\n",
              "      <td>18.0</td>\n",
              "      <td>2.31</td>\n",
              "      <td>0.0</td>\n",
              "      <td>0.538</td>\n",
              "      <td>6.575</td>\n",
              "      <td>65.2</td>\n",
              "      <td>4.0900</td>\n",
              "      <td>1.0</td>\n",
              "      <td>296.0</td>\n",
              "      <td>15.3</td>\n",
              "      <td>396.90</td>\n",
              "      <td>4.98</td>\n",
              "    </tr>\n",
              "    <tr>\n",
              "      <th>1</th>\n",
              "      <td>0.02731</td>\n",
              "      <td>0.0</td>\n",
              "      <td>7.07</td>\n",
              "      <td>0.0</td>\n",
              "      <td>0.469</td>\n",
              "      <td>6.421</td>\n",
              "      <td>78.9</td>\n",
              "      <td>4.9671</td>\n",
              "      <td>2.0</td>\n",
              "      <td>242.0</td>\n",
              "      <td>17.8</td>\n",
              "      <td>396.90</td>\n",
              "      <td>9.14</td>\n",
              "    </tr>\n",
              "    <tr>\n",
              "      <th>2</th>\n",
              "      <td>0.02729</td>\n",
              "      <td>0.0</td>\n",
              "      <td>7.07</td>\n",
              "      <td>0.0</td>\n",
              "      <td>0.469</td>\n",
              "      <td>7.185</td>\n",
              "      <td>61.1</td>\n",
              "      <td>4.9671</td>\n",
              "      <td>2.0</td>\n",
              "      <td>242.0</td>\n",
              "      <td>17.8</td>\n",
              "      <td>392.83</td>\n",
              "      <td>4.03</td>\n",
              "    </tr>\n",
              "    <tr>\n",
              "      <th>3</th>\n",
              "      <td>0.03237</td>\n",
              "      <td>0.0</td>\n",
              "      <td>2.18</td>\n",
              "      <td>0.0</td>\n",
              "      <td>0.458</td>\n",
              "      <td>6.998</td>\n",
              "      <td>45.8</td>\n",
              "      <td>6.0622</td>\n",
              "      <td>3.0</td>\n",
              "      <td>222.0</td>\n",
              "      <td>18.7</td>\n",
              "      <td>394.63</td>\n",
              "      <td>2.94</td>\n",
              "    </tr>\n",
              "    <tr>\n",
              "      <th>4</th>\n",
              "      <td>0.06905</td>\n",
              "      <td>0.0</td>\n",
              "      <td>2.18</td>\n",
              "      <td>0.0</td>\n",
              "      <td>0.458</td>\n",
              "      <td>7.147</td>\n",
              "      <td>54.2</td>\n",
              "      <td>6.0622</td>\n",
              "      <td>3.0</td>\n",
              "      <td>222.0</td>\n",
              "      <td>18.7</td>\n",
              "      <td>396.90</td>\n",
              "      <td>5.33</td>\n",
              "    </tr>\n",
              "  </tbody>\n",
              "</table>\n",
              "</div>"
            ],
            "text/plain": [
              "      CRIM    ZN  INDUS  CHAS    NOX  ...  RAD    TAX  PTRATIO       B  LSTAT\n",
              "0  0.00632  18.0   2.31   0.0  0.538  ...  1.0  296.0     15.3  396.90   4.98\n",
              "1  0.02731   0.0   7.07   0.0  0.469  ...  2.0  242.0     17.8  396.90   9.14\n",
              "2  0.02729   0.0   7.07   0.0  0.469  ...  2.0  242.0     17.8  392.83   4.03\n",
              "3  0.03237   0.0   2.18   0.0  0.458  ...  3.0  222.0     18.7  394.63   2.94\n",
              "4  0.06905   0.0   2.18   0.0  0.458  ...  3.0  222.0     18.7  396.90   5.33\n",
              "\n",
              "[5 rows x 13 columns]"
            ]
          },
          "metadata": {
            "tags": []
          },
          "execution_count": 7
        }
      ]
    },
    {
      "cell_type": "code",
      "metadata": {
        "id": "9h29udnNmX-1",
        "outputId": "b25cc171-f317-44b2-b372-1f1b0c4bae2a",
        "colab": {
          "base_uri": "https://localhost:8080/",
          "height": 72
        }
      },
      "source": [
        "boston_df.columns"
      ],
      "execution_count": null,
      "outputs": [
        {
          "output_type": "execute_result",
          "data": {
            "text/plain": [
              "Index(['CRIM', 'ZN', 'INDUS', 'CHAS', 'NOX', 'RM', 'AGE', 'DIS', 'RAD', 'TAX',\n",
              "       'PTRATIO', 'B', 'LSTAT'],\n",
              "      dtype='object')"
            ]
          },
          "metadata": {
            "tags": []
          },
          "execution_count": 8
        }
      ]
    },
    {
      "cell_type": "code",
      "metadata": {
        "id": "m8mKMYmKmfmn",
        "outputId": "e5a6c9cd-e3d0-4300-af97-4a8c92916bbf",
        "colab": {
          "base_uri": "https://localhost:8080/",
          "height": 272
        }
      },
      "source": [
        "boston_df.isnull().sum()"
      ],
      "execution_count": null,
      "outputs": [
        {
          "output_type": "execute_result",
          "data": {
            "text/plain": [
              "CRIM       0\n",
              "ZN         0\n",
              "INDUS      0\n",
              "CHAS       0\n",
              "NOX        0\n",
              "RM         0\n",
              "AGE        0\n",
              "DIS        0\n",
              "RAD        0\n",
              "TAX        0\n",
              "PTRATIO    0\n",
              "B          0\n",
              "LSTAT      0\n",
              "dtype: int64"
            ]
          },
          "metadata": {
            "tags": []
          },
          "execution_count": 9
        }
      ]
    },
    {
      "cell_type": "code",
      "metadata": {
        "id": "G7MI5618yn-o"
      },
      "source": [
        "X = load_boston().data\n",
        "y = load_boston().target"
      ],
      "execution_count": null,
      "outputs": []
    },
    {
      "cell_type": "code",
      "metadata": {
        "id": "uF9CdNmPyrcB"
      },
      "source": [
        "X_train, X_test, y_train, y_test = train_test_split( X, y, test_size=0.33, random_state=42)"
      ],
      "execution_count": null,
      "outputs": []
    },
    {
      "cell_type": "code",
      "metadata": {
        "id": "Oh38M73_PqbI",
        "outputId": "509b787e-6ce4-4fce-ee2e-a27a294a635d",
        "colab": {
          "base_uri": "https://localhost:8080/",
          "height": 35
        }
      },
      "source": [
        "print(X_train.shape, X_test.shape, y_train.shape, y_test.shape)\n"
      ],
      "execution_count": null,
      "outputs": [
        {
          "output_type": "stream",
          "text": [
            "(339, 13) (167, 13) (339,) (167,)\n"
          ],
          "name": "stdout"
        }
      ]
    },
    {
      "cell_type": "code",
      "metadata": {
        "id": "WdE6Qv0tjimg"
      },
      "source": [
        "#here the data is of different units i.e, each feature is having different values we need to standardize the data \n",
        "#question:why you are doing the standarization and why not normalization \n",
        "#standarization helps in having an extra mile of understanding the data so as to get some more insights \n",
        "#normalization will be helping in fixing the range of all the values of thew attributes"
      ],
      "execution_count": null,
      "outputs": []
    },
    {
      "cell_type": "code",
      "metadata": {
        "id": "d-QzRXnfkMsA"
      },
      "source": [
        "# standardizing data\n",
        "from sklearn.preprocessing import StandardScaler\n",
        "scaler = StandardScaler().fit(X_train)\n",
        "X_train = scaler.transform(X_train)\n",
        "X_test=scaler.transform(X_test)"
      ],
      "execution_count": null,
      "outputs": []
    },
    {
      "cell_type": "code",
      "metadata": {
        "id": "wxqMCY4Ty9T1"
      },
      "source": [
        "train_data=pd.DataFrame(X_train)\n",
        "train_data['price']=y_train\n",
        "train_data.head(3)\n",
        "\n",
        "x_test=np.array(X_test)\n",
        "y_test=np.array(y_test)"
      ],
      "execution_count": null,
      "outputs": []
    },
    {
      "cell_type": "code",
      "metadata": {
        "id": "PQpPlz6Wm88X"
      },
      "source": [
        "#firstly we need to find the line equation of the line that will be passing through the maximum #points in the dataset\n",
        "#we need to find the y^(y_hat value)\n",
        "#line equation:y=mx=c\n",
        "#y_prediction=m(slope)*X(datapoint)+c(y-intercept)\n",
        "#y_prediction=np.dot(m,X(i))+c\n"
      ],
      "execution_count": null,
      "outputs": []
    },
    {
      "cell_type": "code",
      "metadata": {
        "id": "jzbL8y7Noi_Q"
      },
      "source": [
        "#with the give line equation we need to check if this is the best fit line from the SUM OF THE SQUARED ERRORS  of the dataset \n",
        "#we need to find the minimal value of the SQUARED ERROR with the optimal value of the slope(m) and y-intercept (c) belonging to the best fit line \n"
      ],
      "execution_count": null,
      "outputs": []
    },
    {
      "cell_type": "code",
      "metadata": {
        "id": "rE3t0NRZqkxm"
      },
      "source": [
        "#The optimal slope and y-intercept are achived by the partial derivative of the the loss function \n",
        "#loss function=argmin(m,c) Σ(y(i)-y^(i))^2\n",
        "#In simple terms loss function=argmin(m,c) Σ (actual - predicted)^2"
      ],
      "execution_count": null,
      "outputs": []
    },
    {
      "cell_type": "code",
      "metadata": {
        "id": "RxKa6bXjsFtt"
      },
      "source": [
        "#now lets take the gradient of the loss function w.r.t slope and the y-intercept"
      ],
      "execution_count": null,
      "outputs": []
    },
    {
      "cell_type": "code",
      "metadata": {
        "id": "0tuZdoo2sHfl"
      },
      "source": [
        "#as given in the assignment video \n",
        "#m_grad=m_grad + (-2)*X[i]*(y[i]-(y_prediction))\n",
        "#c_grad=b_grad + (-2)*(y[i]-(y_prediction))\n",
        "#we need to remember that the we need to run the gradient of the slope and y-intercept for every value of X "
      ],
      "execution_count": null,
      "outputs": []
    },
    {
      "cell_type": "code",
      "metadata": {
        "id": "hIwxYIQcvrPK"
      },
      "source": [
        "#as this is a iterative process and we intialization of the slope and the y-intercept start with random values.\n",
        "#to get the next closest slope and intercept value we will have a update function.\n",
        "#this update function will decide the next slope and as well as for the y-intercept.\n",
        "#new_intercept=old_intercept-learning_rate[c_grad]\n",
        "#new_slope=old_slope-learning_rate[m_grad]\n",
        "#here the learning_rate will decide how closer the next slope or intercept has to jump for their respective optimal values. "
      ],
      "execution_count": null,
      "outputs": []
    },
    {
      "cell_type": "code",
      "metadata": {
        "id": "Lvaj3BZXucW8"
      },
      "source": [
        "#to avoid the oscillation of the new_slope and new_intercept we need to decrease the learning_rate for every iteration\n",
        "#there is no rule that we need to decrease the learning rate to a certain value\n",
        "#here we'll divide the learning rate by 2"
      ],
      "execution_count": null,
      "outputs": []
    },
    {
      "cell_type": "code",
      "metadata": {
        "id": "msPDLfBVy7ya"
      },
      "source": [
        "#In SGD we will take k #points where 1<k<n\n",
        "#from the old slope or intercept to reach the new slope or intercept, the update function will use different set of k \n",
        "#Here we consider k as batch_size"
      ],
      "execution_count": null,
      "outputs": []
    },
    {
      "cell_type": "code",
      "metadata": {
        "id": "2xAcGK2W0I5u"
      },
      "source": [
        "#we need to control the #iterations for the update fnction to run "
      ],
      "execution_count": null,
      "outputs": []
    },
    {
      "cell_type": "code",
      "metadata": {
        "id": "lYuBVtO8y5pO"
      },
      "source": [
        "def sgd(train_data,learning_rate,iterations,k,decrease_lr):\n",
        "    \n",
        "    # Initially we will keep our W and B as 0 as per the Training Data\n",
        "    m=np.zeros(shape=(1,train_data.shape[1]-1))\n",
        "    c=0\n",
        "    \n",
        "    \n",
        "    for iterations in range(1,iterations+1):\n",
        "\n",
        "        # We will create a small training data set of size K\n",
        "        temp=train_data.sample(k)\n",
        "        \n",
        "        # We create our X and Y from the above temp dataset\n",
        "        y=np.array(temp['price'])\n",
        "        x=np.array(temp.drop('price',axis=1))\n",
        "        \n",
        "        # We keep our initial gradients as 0\n",
        "        m_grad=np.zeros(shape=(1,train_data.shape[1]-1))\n",
        "        c_grad=0\n",
        "        \n",
        "        for i in range(k): # Calculating gradients for point in our K sized dataset\n",
        "            prediction=np.dot(m,x[i])+c\n",
        "            m_grad=m_grad+(-2)*x[i]*(y[i]-(prediction))\n",
        "            c_grad=c_grad+(-2)*(y[i]-(prediction))\n",
        "        \n",
        "        #Updating the weights(W) and Bias(b) with the above calculated Gradients\n",
        "        m=m-learning_rate*(m_grad/k)\n",
        "        c=c-learning_rate*(c_grad/k)\n",
        "        \n",
        "        # Incrementing the iteration value\n",
        "        iterations=iterations+1\n",
        "        \n",
        "        #Dividing the learning rate by the specified value\n",
        "        learning_rate=learning_rate/decrease_lr\n",
        "        \n",
        "    return m,c #Returning the weights and Bias"
      ],
      "execution_count": null,
      "outputs": []
    },
    {
      "cell_type": "code",
      "metadata": {
        "id": "HKhEvIjVzqYB"
      },
      "source": [
        "def predict(x,m,c):\n",
        "    y_prediction=[]\n",
        "    for i in range(len(x)):\n",
        "        y=np.asscalar(np.dot(m,x[i])+c)\n",
        "        y_prediction.append(y)\n",
        "    return np.array(y_prediction)\n",
        "    "
      ],
      "execution_count": null,
      "outputs": []
    },
    {
      "cell_type": "code",
      "metadata": {
        "id": "IjAzKC-uz4b5"
      },
      "source": [
        "m,c=sgd(train_data,0.001,1000,10,1)\n",
        "y_test_prediction=predict(X_test,m,c)"
      ],
      "execution_count": null,
      "outputs": []
    },
    {
      "cell_type": "code",
      "metadata": {
        "id": "O_J5G4R90HKw",
        "colab": {
          "base_uri": "https://localhost:8080/",
          "height": 295
        },
        "outputId": "47d474cc-0d02-4c57-d3c1-eff6fb5ba337"
      },
      "source": [
        "plt.scatter(y_test,y_test_prediction)\n",
        "plt.grid()\n",
        "plt.xlabel('Actual y')\n",
        "plt.ylabel('Predicted y')\n",
        "plt.title('Scatter plot from actual y and predicted y')\n",
        "plt.show()\n"
      ],
      "execution_count": null,
      "outputs": [
        {
          "output_type": "display_data",
          "data": {
            "image/png": "[encoded data removed]",
            "text/plain": [
              "<Figure size 432x288 with 1 Axes>"
            ]
          },
          "metadata": {
            "tags": [],
            "needs_background": "light"
          }
        }
      ]
    },
    {
      "cell_type": "code",
      "metadata": {
        "id": "OvK19N8J0sxe",
        "colab": {
          "base_uri": "https://localhost:8080/",
          "height": 35
        },
        "outputId": "25b091bf-0a3b-4f39-ec6a-6eb591256854"
      },
      "source": [
        "from sklearn.metrics import mean_squared_error\n",
        "mean_sqerror1 = mean_squared_error(y_test,y_test_prediction)\n",
        "print(\"Mean squared error\",mean_sqerror1)\n"
      ],
      "execution_count": null,
      "outputs": [
        {
          "output_type": "stream",
          "text": [
            "Mean squared error 34.03632111454727\n"
          ],
          "name": "stdout"
        }
      ]
    },
    {
      "cell_type": "code",
      "metadata": {
        "id": "GnsrktyYmbMj",
        "outputId": "42293540-aa6e-4b11-9dab-9dfdfc5c5581",
        "colab": {
          "base_uri": "https://localhost:8080/",
          "height": 295
        }
      },
      "source": [
        "#now we need to try the sklearn sgdRegressor\n",
        "from sklearn.linear_model import SGDRegressor\n",
        "SGD = SGDRegressor(loss='squared_loss', max_iter=500)\n",
        "SGD.fit(X_train,y_train)\n",
        "y_TEST_prediction = SGD.predict(X_test)\n",
        "plt.scatter(y_test,y_TEST_prediction)\n",
        "plt.grid()\n",
        "plt.xlabel('Actual y')\n",
        "plt.ylabel('Predicted y')\n",
        "plt.title('Scatter plot from actual y and predicted y')\n",
        "plt.show()"
      ],
      "execution_count": null,
      "outputs": [
        {
          "output_type": "display_data",
          "data": {
            "image/png": "[encoded data removed]",
            "text/plain": [
              "<Figure size 432x288 with 1 Axes>"
            ]
          },
          "metadata": {
            "tags": [],
            "needs_background": "light"
          }
        }
      ]
    },
    {
      "cell_type": "code",
      "metadata": {
        "id": "qTMat6DZzXDz",
        "outputId": "999be145-5e95-4ab9-f108-c3c1a8917af0",
        "colab": {
          "base_uri": "https://localhost:8080/",
          "height": 35
        }
      },
      "source": [
        "mean_sqerror2 = mean_squared_error(y_test,y_TEST_prediction)\n",
        "print(\"Mean squared error\",mean_sqerror2)"
      ],
      "execution_count": null,
      "outputs": [
        {
          "output_type": "stream",
          "text": [
            "Mean squared error 21.084002437080102\n"
          ],
          "name": "stdout"
        }
      ]
    },
    {
      "cell_type": "code",
      "metadata": {
        "id": "xrdmre9foVGB",
        "outputId": "eafd2fb9-bc3f-4b0b-e3ec-df2458cd2f1f",
        "colab": {
          "base_uri": "https://localhost:8080/",
          "height": 272
        }
      },
      "source": [
        "#here we have the best fit weights of the sgd regressor built from scratch\n",
        "bestfit_weights=pd.DataFrame(m)\n",
        "bestfit_weights=bestfit_weights.T\n",
        "bestfit_weights.columns=['SGD_prototype']\n",
        "print(bestfit_weights)"
      ],
      "execution_count": null,
      "outputs": [
        {
          "output_type": "stream",
          "text": [
            "    SGD_prototype\n",
            "0       -0.652678\n",
            "1        0.334406\n",
            "2       -0.234868\n",
            "3        1.319235\n",
            "4       -0.483704\n",
            "5        3.145246\n",
            "6       -0.311510\n",
            "7       -1.162457\n",
            "8        0.086690\n",
            "9       -0.325474\n",
            "10      -1.717234\n",
            "11       0.967010\n",
            "12      -3.127570\n"
          ],
          "name": "stdout"
        }
      ]
    },
    {
      "cell_type": "code",
      "metadata": {
        "id": "7rd2KKnmpF8h",
        "outputId": "56757700-1bcf-4a14-b681-193a984941fc",
        "colab": {
          "base_uri": "https://localhost:8080/",
          "height": 272
        }
      },
      "source": [
        "#here we have the best weights of the sklearn's sgd regressor\n",
        "bestfit_weights2=pd.DataFrame(SGD.coef_)\n",
        "bestfit_weights2.columns=['SGD_sklearn']\n",
        "print(bestfit_weights2)"
      ],
      "execution_count": null,
      "outputs": [
        {
          "output_type": "stream",
          "text": [
            "    SGD_sklearn\n",
            "0     -0.911090\n",
            "1      0.716755\n",
            "2      0.192700\n",
            "3      0.891279\n",
            "4     -1.722460\n",
            "5      2.851760\n",
            "6     -0.372715\n",
            "7     -2.908668\n",
            "8      1.412806\n",
            "9     -0.699407\n",
            "10    -2.039594\n",
            "11     1.019959\n",
            "12    -3.916118\n"
          ],
          "name": "stdout"
        }
      ]
    },
    {
      "cell_type": "code",
      "metadata": {
        "id": "1h6dXkI0tbe2"
      },
      "source": [
        "table=pd.concat([bestfit_weights,bestfit_weights2], axis=1, sort=False)"
      ],
      "execution_count": null,
      "outputs": []
    },
    {
      "cell_type": "code",
      "metadata": {
        "id": "1PpoB-IKu-GI",
        "outputId": "78fc5fa3-f915-4d5c-8c55-ccd34c830c92",
        "colab": {
          "base_uri": "https://localhost:8080/",
          "height": 272
        }
      },
      "source": [
        "print(table)"
      ],
      "execution_count": null,
      "outputs": [
        {
          "output_type": "stream",
          "text": [
            "    SGD_prototype  SGD_sklearn\n",
            "0       -0.652678    -0.911090\n",
            "1        0.334406     0.716755\n",
            "2       -0.234868     0.192700\n",
            "3        1.319235     0.891279\n",
            "4       -0.483704    -1.722460\n",
            "5        3.145246     2.851760\n",
            "6       -0.311510    -0.372715\n",
            "7       -1.162457    -2.908668\n",
            "8        0.086690     1.412806\n",
            "9       -0.325474    -0.699407\n",
            "10      -1.717234    -2.039594\n",
            "11       0.967010     1.019959\n",
            "12      -3.127570    -3.916118\n"
          ],
          "name": "stdout"
        }
      ]
    },
    {
      "cell_type": "code",
      "metadata": {
        "id": "lKGrrmzmvAod",
        "outputId": "f631bbec-700e-4251-94e3-e210879963c3",
        "colab": {
          "base_uri": "https://localhost:8080/",
          "height": 54
        }
      },
      "source": [
        "print(\"mean square error of the sgd_prototype\",mean_sqerror1)\n",
        "print(\"mean square error of the sgd_sklearn\",mean_sqerror2)"
      ],
      "execution_count": null,
      "outputs": [
        {
          "output_type": "stream",
          "text": [
            "mean square error of the sgd_prototype 34.03632111454727\n",
            "mean square error of the sgd_sklearn 21.084002437080102\n"
          ],
          "name": "stdout"
        }
      ]
    },
    {
      "cell_type": "code",
      "metadata": {
        "id": "9x7hh3btz38V"
      },
      "source": [
        ""
      ],
      "execution_count": null,
      "outputs": []
    }
  ]
}